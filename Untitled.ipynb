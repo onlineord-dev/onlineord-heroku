{
 "cells": [
  {
   "cell_type": "code",
   "execution_count": null,
   "id": "ethical-hebrew",
   "metadata": {},
   "outputs": [],
   "source": [
    "cnx = connection.MySQLConnection(**config)\n",
    "    \n",
    "    req_email = request.form['email']\n",
    "    req_pass = request.form['password']\n",
    "    \n",
    "    cursor = cnx.cursor(buffered=True)\n",
    "    cursor.execute(f\"SELECT * FROM users WHERE Email = '{req_email}'\")\n",
    "\n",
    "    response = []\n",
    "    if(cursor.rowcount == 1):\n",
    "        user = [{\n",
    "            'ID': i[0],\n",
    "            'Email': i[1],\n",
    "            'Name': i[2],\n",
    "            'Surame': i[3],\n",
    "            'Password': i[4],\n",
    "            'Phone_number': i[5]} for i in cursor]\n",
    "        \n",
    "        if(user[0]['Password'] == req_pass):\n",
    "            respose = user\n",
    "        else:\n",
    "            response = [{\n",
    "            'error': {\n",
    "                'code': 1,\n",
    "                'description': \"invalid password\"\n",
    "            }\n",
    "        }]\n",
    "    else:\n",
    "        response = [{\n",
    "            'error': {\n",
    "                'code': 0,\n",
    "                'description': \"invlaid email\"\n",
    "            }\n",
    "        }]\n",
    "\n",
    "    cnx.close()"
   ]
  },
  {
   "cell_type": "code",
   "execution_count": 1,
   "id": "comparative-environment",
   "metadata": {},
   "outputs": [],
   "source": [
    "from mysql.connector import (connection)\n",
    "config = {\n",
    "  'user': 'onlineord',\n",
    "  'password': 'Bd4tO--2FL7V',\n",
    "  'host': 'den1.mysql4.gear.host',\n",
    "  'database': 'onlineord',\n",
    "  'raise_on_warnings': True\n",
    "}\n",
    "\n",
    "\n",
    "\n"
   ]
  },
  {
   "cell_type": "code",
   "execution_count": 3,
   "id": "cordless-quick",
   "metadata": {},
   "outputs": [],
   "source": [
    "req_email = \"test@test\"\n",
    "req_pass = \"test\""
   ]
  },
  {
   "cell_type": "code",
   "execution_count": 15,
   "id": "treated-murder",
   "metadata": {},
   "outputs": [
    {
     "name": "stdout",
     "output_type": "stream",
     "text": [
      "1\n"
     ]
    }
   ],
   "source": [
    "cnx = connection.MySQLConnection(**config)\n",
    "cursor = cnx.cursor(buffered=True)\n",
    "cursor.execute(f\"SELECT * FROM users WHERE Email = '{req_email}'\")\n",
    "\n",
    "print(cursor.rowcount)"
   ]
  },
  {
   "cell_type": "code",
   "execution_count": 8,
   "id": "sharing-namibia",
   "metadata": {},
   "outputs": [
    {
     "data": {
      "text/plain": [
       "[{'ID': 1,\n",
       "  'Email': 'test@test',\n",
       "  'Name': 'Test',\n",
       "  'Surame': 'Tester',\n",
       "  'Password': 'test',\n",
       "  'Phone_number': '123'}]"
      ]
     },
     "execution_count": 8,
     "metadata": {},
     "output_type": "execute_result"
    }
   ],
   "source": [
    "user = [{\n",
    "            'ID': i[0],\n",
    "            'Email': i[1],\n",
    "            'Name': i[2],\n",
    "            'Surame': i[3],\n",
    "            'Password': i[4],\n",
    "            'Phone_number': i[5]} for i in cursor]\n",
    "user"
   ]
  },
  {
   "cell_type": "code",
   "execution_count": 10,
   "id": "hollow-source",
   "metadata": {},
   "outputs": [
    {
     "data": {
      "text/plain": [
       "'test'"
      ]
     },
     "execution_count": 10,
     "metadata": {},
     "output_type": "execute_result"
    }
   ],
   "source": [
    "user[0]['Password']"
   ]
  },
  {
   "cell_type": "code",
   "execution_count": 14,
   "id": "endless-conference",
   "metadata": {},
   "outputs": [
    {
     "data": {
      "text/plain": [
       "[{'ID': 1,\n",
       "  'Email': 'test@test',\n",
       "  'Name': 'Test',\n",
       "  'Surame': 'Tester',\n",
       "  'Password': 'test',\n",
       "  'Phone_number': '123'}]"
      ]
     },
     "execution_count": 14,
     "metadata": {},
     "output_type": "execute_result"
    }
   ],
   "source": [
    "if(user[0]['Password'] == req_pass):\n",
    "    response = user\n",
    "else:\n",
    "    response = [{\"error\":0}]\n",
    "response"
   ]
  },
  {
   "cell_type": "code",
   "execution_count": 33,
   "id": "linear-accident",
   "metadata": {},
   "outputs": [],
   "source": [
    "cnx = connection.MySQLConnection(**config)\n",
    "cursor = cnx.cursor(buffered=True)"
   ]
  },
  {
   "cell_type": "code",
   "execution_count": 31,
   "id": "advised-annex",
   "metadata": {},
   "outputs": [],
   "source": [
    "cursor.execute(f\"SELECT COUNT(ID) FROM users WHERE Email = '{req_email}'\")\n",
    "\n",
    "for i in cursor:\n",
    "    res = i"
   ]
  },
  {
   "cell_type": "code",
   "execution_count": 34,
   "id": "internal-booking",
   "metadata": {},
   "outputs": [
    {
     "data": {
      "text/plain": [
       "'test'"
      ]
     },
     "execution_count": 34,
     "metadata": {},
     "output_type": "execute_result"
    }
   ],
   "source": [
    "cursor.execute(f\"SELECT * FROM users WHERE Email = '{req_email}'\")\n",
    "\n",
    "for i in cursor:\n",
    "    res = i[4]\n",
    "res"
   ]
  }
 ],
 "metadata": {
  "kernelspec": {
   "display_name": "Python 3",
   "language": "python",
   "name": "python3"
  },
  "language_info": {
   "codemirror_mode": {
    "name": "ipython",
    "version": 3
   },
   "file_extension": ".py",
   "mimetype": "text/x-python",
   "name": "python",
   "nbconvert_exporter": "python",
   "pygments_lexer": "ipython3",
   "version": "3.8.3"
  }
 },
 "nbformat": 4,
 "nbformat_minor": 5
}
