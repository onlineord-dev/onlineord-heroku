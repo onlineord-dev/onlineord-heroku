{
 "cells": [
  {
   "cell_type": "code",
   "execution_count": null,
   "id": "national-start",
   "metadata": {},
   "outputs": [],
   "source": [
    "cnx = connection.MySQLConnection(**config)\n",
    "    \n",
    "    req_email = request.form['email']\n",
    "    req_pass = request.form['password']\n",
    "    \n",
    "    cursor = cnx.cursor(buffered=True)\n",
    "    cursor.execute(f\"SELECT * FROM users WHERE Email = '{req_email}'\")\n",
    "\n",
    "    response = []\n",
    "    if(cursor.rowcount == 1):\n",
    "        user = [{\n",
    "            'ID': i[0],\n",
    "            'Email': i[1],\n",
    "            'Name': i[2],\n",
    "            'Surame': i[3],\n",
    "            'Password': i[4],\n",
    "            'Phone_number': i[5]} for i in cursor]\n",
    "        \n",
    "        if(user[0]['Password'] == req_pass):\n",
    "            respose = user\n",
    "        else:\n",
    "            response = [{\n",
    "            'error': {\n",
    "                'code': 1,\n",
    "                'description': \"invalid password\"\n",
    "            }\n",
    "        }]\n",
    "    else:\n",
    "        response = [{\n",
    "            'error': {\n",
    "                'code': 0,\n",
    "                'description': \"invlaid email\"\n",
    "            }\n",
    "        }]\n",
    "\n",
    "    cnx.close()"
   ]
  },
  {
   "cell_type": "code",
   "execution_count": 1,
   "id": "entire-rental",
   "metadata": {},
   "outputs": [],
   "source": [
    "from mysql.connector import (connection)\n",
    "config = {\n",
    "  'user': 'onlineord',\n",
    "  'password': 'Bd4tO--2FL7V',\n",
    "  'host': 'den1.mysql4.gear.host',\n",
    "  'database': 'onlineord',\n",
    "  'raise_on_warnings': True\n",
    "}\n",
    "\n",
    "\n",
    "\n"
   ]
  },
  {
   "cell_type": "code",
   "execution_count": 3,
   "id": "deluxe-discretion",
   "metadata": {},
   "outputs": [],
   "source": [
    "req_email = \"test@test\"\n",
    "req_pass = \"test\""
   ]
  },
  {
   "cell_type": "code",
   "execution_count": 15,
   "id": "stylish-watts",
   "metadata": {},
   "outputs": [
    {
     "name": "stdout",
     "output_type": "stream",
     "text": [
      "1\n"
     ]
    }
   ],
   "source": [
    "cnx = connection.MySQLConnection(**config)\n",
    "cursor = cnx.cursor(buffered=True)\n",
    "cursor.execute(f\"SELECT * FROM users WHERE Email = '{req_email}'\")\n",
    "\n",
    "print(cursor.rowcount)"
   ]
  },
  {
   "cell_type": "code",
   "execution_count": 8,
   "id": "genuine-poker",
   "metadata": {},
   "outputs": [
    {
     "data": {
      "text/plain": [
       "[{'ID': 1,\n",
       "  'Email': 'test@test',\n",
       "  'Name': 'Test',\n",
       "  'Surame': 'Tester',\n",
       "  'Password': 'test',\n",
       "  'Phone_number': '123'}]"
      ]
     },
     "execution_count": 8,
     "metadata": {},
     "output_type": "execute_result"
    }
   ],
   "source": [
    "user = [{\n",
    "            'ID': i[0],\n",
    "            'Email': i[1],\n",
    "            'Name': i[2],\n",
    "            'Surame': i[3],\n",
    "            'Password': i[4],\n",
    "            'Phone_number': i[5]} for i in cursor]\n",
    "user"
   ]
  },
  {
   "cell_type": "code",
   "execution_count": 10,
   "id": "vital-rabbit",
   "metadata": {},
   "outputs": [
    {
     "data": {
      "text/plain": [
       "'test'"
      ]
     },
     "execution_count": 10,
     "metadata": {},
     "output_type": "execute_result"
    }
   ],
   "source": [
    "user[0]['Password']"
   ]
  },
  {
   "cell_type": "code",
   "execution_count": 14,
   "id": "professional-search",
   "metadata": {},
   "outputs": [
    {
     "data": {
      "text/plain": [
       "[{'ID': 1,\n",
       "  'Email': 'test@test',\n",
       "  'Name': 'Test',\n",
       "  'Surame': 'Tester',\n",
       "  'Password': 'test',\n",
       "  'Phone_number': '123'}]"
      ]
     },
     "execution_count": 14,
     "metadata": {},
     "output_type": "execute_result"
    }
   ],
   "source": [
    "if(user[0]['Password'] == req_pass):\n",
    "    response = user\n",
    "else:\n",
    "    response = [{\"error\":0}]\n",
    "response"
   ]
  },
  {
   "cell_type": "code",
   "execution_count": 33,
   "id": "natural-reality",
   "metadata": {},
   "outputs": [],
   "source": [
    "cnx = connection.MySQLConnection(**config)\n",
    "cursor = cnx.cursor(buffered=True)"
   ]
  },
  {
   "cell_type": "code",
   "execution_count": 31,
   "id": "german-polyester",
   "metadata": {},
   "outputs": [],
   "source": [
    "cursor.execute(f\"SELECT COUNT(ID) FROM users WHERE Email = '{req_email}'\")\n",
    "\n",
    "for i in cursor:\n",
    "    res = i"
   ]
  },
  {
   "cell_type": "code",
   "execution_count": 34,
   "id": "imported-massage",
   "metadata": {},
   "outputs": [
    {
     "data": {
      "text/plain": [
       "'test'"
      ]
     },
     "execution_count": 34,
     "metadata": {},
     "output_type": "execute_result"
    }
   ],
   "source": [
    "cursor.execute(f\"SELECT * FROM users WHERE Email = '{req_email}'\")\n",
    "\n",
    "for i in cursor:\n",
    "    res = i[4]\n",
    "res"
   ]
  },
  {
   "cell_type": "code",
   "execution_count": 27,
   "id": "radio-christianity",
   "metadata": {},
   "outputs": [],
   "source": [
    "cnx = connection.MySQLConnection(**config)\n",
    "cursor = cnx.cursor()"
   ]
  },
  {
   "cell_type": "code",
   "execution_count": 38,
   "id": "black-personality",
   "metadata": {},
   "outputs": [],
   "source": [
    "req = {\n",
    "    \"organization_id\": 439,\n",
    "    \"table_id\": 1\n",
    "}\n",
    "\n",
    "response = {\n",
    "    'menu': [],\n",
    "    'discounts': [],\n",
    "    'dish_of_the_day': {},\n",
    "    'dish_of_the_week': {}\n",
    "}\n",
    "\n",
    "response = {\n",
    "    'menu': [],\n",
    "    \"discounts\": [\n",
    "            {\n",
    "                \"id\": 5,\n",
    "                \"name\": \"Name\",\n",
    "                \"description\": \"Lorem ipsum dolor sit amet.\",\n",
    "                \"image\": \"image.jpg\",\n",
    "                \"price\": 128\n",
    "            },\n",
    "            {\n",
    "                \"id\": 6,\n",
    "                \"name\": \"Name\",\n",
    "                \"description\": \"Lorem ipsum dolor sit amet.\",\n",
    "                \"image\": \"image.jpg\",\n",
    "                \"price\": 128\n",
    "            }\n",
    "        ],\n",
    "    \"dish_of_the_day\": {\n",
    "            \"id\": 7,\n",
    "            \"name\": \"Name\",\n",
    "            \"description\": \"Lorem ipsum dolor sit amet.\",\n",
    "            \"image\": \"image.jpg\",\n",
    "            \"price\": 128\n",
    "        },\n",
    "    \"dish_of_the_week\": {\n",
    "            \"id\": 7,\n",
    "            \"name\": \"Name\",\n",
    "            \"description\": \"Lorem ipsum dolor sit amet.\",\n",
    "            \"image\": \"image.jpg\",\n",
    "            \"price\": 128\n",
    "        }\n",
    "}\n"
   ]
  },
  {
   "cell_type": "code",
   "execution_count": 8,
   "id": "unauthorized-cardiff",
   "metadata": {},
   "outputs": [
    {
     "data": {
      "text/plain": [
       "[{'ID': 100,\n",
       "  'Title': 'Summer Menu',\n",
       "  'Description': 'Season menu',\n",
       "  'Organization_id': 439}]"
      ]
     },
     "execution_count": 8,
     "metadata": {},
     "output_type": "execute_result"
    }
   ],
   "source": [
    "cursor.execute(f\"SELECT * FROM menu WHERE Organization_id = {req['organization_id']}\")\n",
    "menu = [{\n",
    "        'ID': i[0],\n",
    "        'Title': i[1],\n",
    "        'Description': i[2],\n",
    "        'Organization_id': i[3]} for i in cursor]\n",
    "menu"
   ]
  },
  {
   "cell_type": "code",
   "execution_count": 40,
   "id": "facial-chick",
   "metadata": {},
   "outputs": [
    {
     "data": {
      "text/plain": [
       "{'menu': [{'submenu_id': 1,\n",
       "   'submenu_name': 'Гарячі страви',\n",
       "   'items': [{'id': 79,\n",
       "     'price': 60.0,\n",
       "     'name': 'Maecenas',\n",
       "     'description': 'food',\n",
       "     'image': None,\n",
       "     'weight': 389},\n",
       "    {'id': 80,\n",
       "     'price': 92.0,\n",
       "     'name': 'et',\n",
       "     'description': 'food',\n",
       "     'image': None,\n",
       "     'weight': 480},\n",
       "    {'id': 81,\n",
       "     'price': 50.0,\n",
       "     'name': 'luctus',\n",
       "     'description': 'food',\n",
       "     'image': None,\n",
       "     'weight': 564},\n",
       "    {'id': 82,\n",
       "     'price': 2.0,\n",
       "     'name': 'et',\n",
       "     'description': 'food',\n",
       "     'image': None,\n",
       "     'weight': 773},\n",
       "    {'id': 105,\n",
       "     'price': 412.0,\n",
       "     'name': 'gweg',\n",
       "     'description': 'food',\n",
       "     'image': None,\n",
       "     'weight': 41},\n",
       "    {'id': 106,\n",
       "     'price': 412.0,\n",
       "     'name': 'gweg',\n",
       "     'description': 'food',\n",
       "     'image': None,\n",
       "     'weight': 41},\n",
       "    {'id': 107,\n",
       "     'price': 123.0,\n",
       "     'name': 'egweg',\n",
       "     'description': 'food',\n",
       "     'image': None,\n",
       "     'weight': 123},\n",
       "    {'id': 108,\n",
       "     'price': 341.0,\n",
       "     'name': 'wgeg',\n",
       "     'description': 'food',\n",
       "     'image': None,\n",
       "     'weight': 2412}]},\n",
       "  {'submenu_id': 2,\n",
       "   'submenu_name': 'Закуски',\n",
       "   'items': [{'id': 90,\n",
       "     'price': 60.0,\n",
       "     'name': 'ornare',\n",
       "     'description': 'food',\n",
       "     'image': None,\n",
       "     'weight': 734},\n",
       "    {'id': 91,\n",
       "     'price': 55.0,\n",
       "     'name': 'dapibus',\n",
       "     'description': 'food',\n",
       "     'image': None,\n",
       "     'weight': 955},\n",
       "    {'id': 92,\n",
       "     'price': 79.0,\n",
       "     'name': 'pellentesque',\n",
       "     'description': 'food',\n",
       "     'image': None,\n",
       "     'weight': 913},\n",
       "    {'id': 93,\n",
       "     'price': 34.0,\n",
       "     'name': 'volutpat',\n",
       "     'description': 'food',\n",
       "     'image': None,\n",
       "     'weight': 433},\n",
       "    {'id': 94,\n",
       "     'price': 25.0,\n",
       "     'name': 'dignissim',\n",
       "     'description': 'food',\n",
       "     'image': None,\n",
       "     'weight': 733},\n",
       "    {'id': 95,\n",
       "     'price': 88.0,\n",
       "     'name': 'massa.',\n",
       "     'description': 'food',\n",
       "     'image': None,\n",
       "     'weight': 1310}]},\n",
       "  {'submenu_id': 3,\n",
       "   'submenu_name': 'Напої',\n",
       "   'items': [{'id': 83,\n",
       "     'price': 78.0,\n",
       "     'name': 'ante.',\n",
       "     'description': 'food',\n",
       "     'image': None,\n",
       "     'weight': 835},\n",
       "    {'id': 84,\n",
       "     'price': 51.0,\n",
       "     'name': 'tincidunt.',\n",
       "     'description': 'food',\n",
       "     'image': None,\n",
       "     'weight': 536},\n",
       "    {'id': 85,\n",
       "     'price': 35.0,\n",
       "     'name': 'erat',\n",
       "     'description': 'food',\n",
       "     'image': None,\n",
       "     'weight': 1010},\n",
       "    {'id': 86,\n",
       "     'price': 72.0,\n",
       "     'name': 'condimentum.',\n",
       "     'description': 'food',\n",
       "     'image': None,\n",
       "     'weight': 985},\n",
       "    {'id': 87,\n",
       "     'price': 76.0,\n",
       "     'name': 'Donec',\n",
       "     'description': 'food',\n",
       "     'image': None,\n",
       "     'weight': 1224},\n",
       "    {'id': 88,\n",
       "     'price': 2.0,\n",
       "     'name': 'urna.',\n",
       "     'description': 'food',\n",
       "     'image': None,\n",
       "     'weight': 473},\n",
       "    {'id': 89,\n",
       "     'price': 15.0,\n",
       "     'name': 'libero.',\n",
       "     'description': 'food',\n",
       "     'image': None,\n",
       "     'weight': 995}]}],\n",
       " 'discounts': [{'id': 5,\n",
       "   'name': 'Name',\n",
       "   'description': 'Lorem ipsum dolor sit amet.',\n",
       "   'image': 'image.jpg',\n",
       "   'price': 128},\n",
       "  {'id': 6,\n",
       "   'name': 'Name',\n",
       "   'description': 'Lorem ipsum dolor sit amet.',\n",
       "   'image': 'image.jpg',\n",
       "   'price': 128}],\n",
       " 'dish_of_the_day': {'id': 7,\n",
       "  'name': 'Name',\n",
       "  'description': 'Lorem ipsum dolor sit amet.',\n",
       "  'image': 'image.jpg',\n",
       "  'price': 128},\n",
       " 'dish_of_the_week': {'id': 7,\n",
       "  'name': 'Name',\n",
       "  'description': 'Lorem ipsum dolor sit amet.',\n",
       "  'image': 'image.jpg',\n",
       "  'price': 128}}"
      ]
     },
     "execution_count": 40,
     "metadata": {},
     "output_type": "execute_result"
    }
   ],
   "source": [
    "cnx = connection.MySQLConnection(**config)\n",
    "cursor = cnx.cursor()\n",
    "cursor.execute(f\"SELECT s.ID, s.submenu_name\\\n",
    "                FROM sub_menu AS s \\\n",
    "                INNER JOIN menu AS m \\\n",
    "                ON s.menu_id = m.ID \\\n",
    "                WHERE m.Organization_id = {req['organization_id']}\")\n",
    "submenus = [{\n",
    "        'submenu_id': i[0],\n",
    "        'submenu_name': i[1],\n",
    "        'items': []} for i in cursor]\n",
    "# for i in cursor:\n",
    "#     submenus.append({\n",
    "#         'submenu_id': i[0],\n",
    "#         'submenu_name': i[1],\n",
    "#         'items': []})\n",
    "\n",
    "for i in submenus:\n",
    "    cursor.execute(f\"SELECT * FROM food WHERE Submenu_id = {i['submenu_id']}\")\n",
    "    item = [{\n",
    "        'id': j[0],\n",
    "        'price': j[1],\n",
    "        'name': j[2],\n",
    "        'description': 'food',\n",
    "        'image': j[4],\n",
    "        'weight': j[5]} for j in cursor]\n",
    "    i['items'] = item\n",
    "    \n",
    "response['menu'] = submenus\n",
    "response"
   ]
  }
 ],
 "metadata": {
  "kernelspec": {
   "display_name": "Python 3",
   "language": "python",
   "name": "python3"
  },
  "language_info": {
   "codemirror_mode": {
    "name": "ipython",
    "version": 3
   },
   "file_extension": ".py",
   "mimetype": "text/x-python",
   "name": "python",
   "nbconvert_exporter": "python",
   "pygments_lexer": "ipython3",
   "version": "3.8.3"
  }
 },
 "nbformat": 4,
 "nbformat_minor": 5
}
